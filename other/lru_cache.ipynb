{
 "cells": [
  {
   "cell_type": "markdown",
   "metadata": {},
   "source": [
    "# Python自带的AOP Cache\n",
    "JAVA中可以通过AOP很容易的实现方法的cache, 其实Python比JAVA做的更进一步,直接在核心库中就实现了.\n",
    "\n",
    "* 示例"
   ]
  },
  {
   "cell_type": "code",
   "execution_count": 1,
   "metadata": {},
   "outputs": [],
   "source": [
    "from functools import lru_cache\n",
    "import time\n",
    "import numpy as np\n",
    "\n",
    "#maxsiez设置了这个方法的case size只有2个,超过就会删除最近最少使用\n",
    "@lru_cache(maxsize=2)\n",
    "def test_lru(seed):   \n",
    "    return np.random.randint(9)\n"
   ]
  },
  {
   "cell_type": "markdown",
   "metadata": {},
   "source": [
    "* Cache不溢出"
   ]
  },
  {
   "cell_type": "code",
   "execution_count": 2,
   "metadata": {},
   "outputs": [
    {
     "name": "stdout",
     "output_type": "stream",
     "text": [
      "2 diff paras, not over maxsize. input:0 output:8\n",
      "2 diff paras, not over maxsize. input:1 output:3\n",
      "2 diff paras, not over maxsize. input:0 output:8\n",
      "2 diff paras, not over maxsize. input:1 output:3\n",
      "2 diff paras, not over maxsize. input:0 output:8\n",
      "2 diff paras, not over maxsize. input:1 output:3\n"
     ]
    }
   ],
   "source": [
    "for i in range(0, 6):\n",
    "    print(f'2 diff paras, not over maxsize. input:{i%2} output:{test_lru(i%2)}')\n",
    "    \n",
    "##没有超出Cache的size(2),所以反复调用,相同参数返回相同值"
   ]
  },
  {
   "cell_type": "markdown",
   "metadata": {},
   "source": [
    "* Cache溢出"
   ]
  },
  {
   "cell_type": "code",
   "execution_count": 3,
   "metadata": {},
   "outputs": [
    {
     "name": "stdout",
     "output_type": "stream",
     "text": [
      "3 diff paras, over maxsize. input:0,  output:8\n",
      "3 diff paras, over maxsize. input:1,  output:3\n",
      "3 diff paras, over maxsize. input:2,  output:7\n",
      "3 diff paras, over maxsize. input:0,  output:4\n",
      "3 diff paras, over maxsize. input:1,  output:3\n",
      "3 diff paras, over maxsize. input:2,  output:1\n"
     ]
    }
   ],
   "source": [
    "for i in range(0, 6):\n",
    "    print(f'3 diff paras, over maxsize. input:{i%3},  output:{test_lru(i%3)}')\n",
    "    \n",
    "##超出Cache的size(2),有3个不同的参数,当再次调用相同参数时,得到了不同的结果(也就是再次调用时,不是从Cache中取到的)"
   ]
  }
 ],
 "metadata": {
  "kernelspec": {
   "display_name": "Python 3",
   "language": "python",
   "name": "python3"
  },
  "language_info": {
   "codemirror_mode": {
    "name": "ipython",
    "version": 3
   },
   "file_extension": ".py",
   "mimetype": "text/x-python",
   "name": "python",
   "nbconvert_exporter": "python",
   "pygments_lexer": "ipython3",
   "version": "3.6.3"
  }
 },
 "nbformat": 4,
 "nbformat_minor": 2
}
