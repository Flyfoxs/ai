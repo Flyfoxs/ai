{
 "cells": [
  {
   "cell_type": "code",
   "execution_count": 17,
   "metadata": {},
   "outputs": [
    {
     "name": "stdout",
     "output_type": "stream",
     "text": [
      "[0 1 2 0 1 2]\n",
      "['ac' 'b' 'c']\n"
     ]
    },
    {
     "data": {
      "text/plain": [
       "array([0, 1, 2, 0, 1, 2])"
      ]
     },
     "execution_count": 17,
     "metadata": {},
     "output_type": "execute_result"
    }
   ],
   "source": [
    "#https://stackoverflow.com/questions/3172509/numpy-convert-categorical-string-arrays-to-an-integer-array\n",
    "import numpy as np\n",
    "import pandas as pd\n",
    "a = np.array(['ac', 'b', 'c', 'ac', 'b', 'c'])\n",
    "a_enc = pd.factorize(a)\n",
    "print(a_enc[0])\n",
    "print(a_enc[1])\n",
    "\n",
    "def convert2num(category):\n",
    "    import numpy as np\n",
    "    import pandas as pd\n",
    "    category = np.array(category)\n",
    "    a_enc = pd.factorize(category)\n",
    "    return a_enc[0]\n",
    "\n",
    "\n",
    "convert2num(['ac', 'b', 'c', 'ac', 'b', 'c'])\n"
   ]
  },
  {
   "cell_type": "code",
   "execution_count": 13,
   "metadata": {
    "collapsed": true
   },
   "outputs": [],
   "source": [
    "pd.factorize?"
   ]
  },
  {
   "cell_type": "code",
   "execution_count": 13,
   "metadata": {},
   "outputs": [
    {
     "name": "stdout",
     "output_type": "stream",
     "text": [
      "Index(['ac', 'b', 'c'], dtype='object')\n",
      "[2 0 1 2 0 1 2]\n"
     ]
    }
   ],
   "source": [
    "#https://stackoverflow.com/questions/3172509/numpy-convert-categorical-string-arrays-to-an-integer-array\n",
    "import numpy as np\n",
    "import pandas as pd\n",
    "a = np.array(['c','ac', 'b', 'c', 'ac', 'b', 'c'])\n",
    "#a = pd.Series(a)\n",
    "a_enc = pd.Categorical(a)\n",
    "print(a_enc.categories)\n",
    "print(a_enc.codes)"
   ]
  },
  {
   "cell_type": "code",
   "execution_count": 22,
   "metadata": {},
   "outputs": [
    {
     "name": "stdout",
     "output_type": "stream",
     "text": [
      "0    ac\n",
      "1     b\n",
      "2     c\n",
      "dtype: object\n"
     ]
    },
    {
     "data": {
      "text/plain": [
       "2     c\n",
       "2     c\n",
       "2     c\n",
       "0    ac\n",
       "1     b\n",
       "1     b\n",
       "1     b\n",
       "dtype: object"
      ]
     },
     "execution_count": 22,
     "metadata": {},
     "output_type": "execute_result"
    }
   ],
   "source": [
    "#Convert back from number to Char\n",
    "dim = pd.Series(a_enc.categories.values)\n",
    "print(dim)\n",
    "sample = [2, 2, 2, 0, 1, 1, 1]\n",
    "dim.take(sample)"
   ]
  },
  {
   "cell_type": "code",
   "execution_count": null,
   "metadata": {
    "collapsed": true
   },
   "outputs": [],
   "source": []
  }
 ],
 "metadata": {
  "kernelspec": {
   "display_name": "Python 3",
   "language": "python",
   "name": "python3"
  },
  "language_info": {
   "codemirror_mode": {
    "name": "ipython",
    "version": 3
   },
   "file_extension": ".py",
   "mimetype": "text/x-python",
   "name": "python",
   "nbconvert_exporter": "python",
   "pygments_lexer": "ipython3",
   "version": "3.6.3"
  }
 },
 "nbformat": 4,
 "nbformat_minor": 2
}
