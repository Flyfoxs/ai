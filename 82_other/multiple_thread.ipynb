{
 "cells": [
  {
   "cell_type": "code",
   "execution_count": 9,
   "metadata": {},
   "outputs": [
    {
     "name": "stdout",
     "output_type": "stream",
     "text": [
      "Requirement already satisfied: urllib3 in /Users/lali2/dev/python/anaconda3/lib/python3.6/site-packages (1.22)\n",
      "\u001b[33mYou are using pip version 10.0.1, however version 18.0 is available.\n",
      "You should consider upgrading via the 'pip install --upgrade pip' command.\u001b[0m\n"
     ]
    }
   ],
   "source": [
    "!pip3 install urllib3"
   ]
  },
  {
   "cell_type": "code",
   "execution_count": 13,
   "metadata": {},
   "outputs": [
    {
     "name": "stdout",
     "output_type": "stream",
     "text": [
      "3\n",
      "main ended\n"
     ]
    }
   ],
   "source": [
    "#import urllib3\n",
    "from urllib.request import urlopen\n",
    "\n",
    "urls = ['http://www.baidu.com','http://www.sina.com','http://www.qq.com']\n",
    "    \n",
    "#from multiprocessing.dummy import Pool as ThreadPool #线程\n",
    "from multiprocessing import Pool as ThreadPool #进程\n",
    " \n",
    "pool = ThreadPool()\n",
    " \n",
    "results = pool.map(urlopen,urls)\n",
    "print (len(results))\n",
    "pool.close()\n",
    "pool.join()\n",
    " \n",
    "print('main ended')\n"
   ]
  },
  {
   "cell_type": "code",
   "execution_count": null,
   "metadata": {
    "collapsed": true
   },
   "outputs": [],
   "source": []
  }
 ],
 "metadata": {
  "kernelspec": {
   "display_name": "Python 3",
   "language": "python",
   "name": "python3"
  },
  "language_info": {
   "codemirror_mode": {
    "name": "ipython",
    "version": 3
   },
   "file_extension": ".py",
   "mimetype": "text/x-python",
   "name": "python",
   "nbconvert_exporter": "python",
   "pygments_lexer": "ipython3",
   "version": "3.6.3"
  }
 },
 "nbformat": 4,
 "nbformat_minor": 2
}
