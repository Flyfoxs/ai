{
 "cells": [
  {
   "cell_type": "code",
   "execution_count": 27,
   "metadata": {},
   "outputs": [
    {
     "name": "stdout",
     "output_type": "stream",
     "text": [
      "123.345\n",
      "1,234,567,890.1235\n",
      "123,456.1234\n",
      "  0.3450\n",
      "  0.3450\n"
     ]
    }
   ],
   "source": [
    "f1=123.345\n",
    "\n",
    "print( f'{f1}' )\n",
    "\n",
    "\"\"\"\n",
    "Float字符串格式\n",
    "{:a,.bf}\n",
    "a: 整个字符串的长度\n",
    "b: 小数后面数字的长度\n",
    ",: 千分位分隔符\n",
    ".小数点分隔符\n",
    "\"\"\"\n",
    "#千分位\n",
    "print('{:10,.4f}'.format(1234567890.12345))\n",
    "print('{:10,.4f}'.format(123456.12345))\n",
    "\n",
    "#前面补足空格\n",
    "print('{:8,.4f}'.format(0.345))\n",
    "print('%8.4f' % (0.345))"
   ]
  },
  {
   "cell_type": "code",
   "execution_count": null,
   "metadata": {
    "collapsed": true
   },
   "outputs": [],
   "source": [
    "f'{f1}'"
   ]
  }
 ],
 "metadata": {
  "kernelspec": {
   "display_name": "Python 3",
   "language": "python",
   "name": "python3"
  },
  "language_info": {
   "codemirror_mode": {
    "name": "ipython",
    "version": 3
   },
   "file_extension": ".py",
   "mimetype": "text/x-python",
   "name": "python",
   "nbconvert_exporter": "python",
   "pygments_lexer": "ipython3",
   "version": "3.6.3"
  }
 },
 "nbformat": 4,
 "nbformat_minor": 2
}
