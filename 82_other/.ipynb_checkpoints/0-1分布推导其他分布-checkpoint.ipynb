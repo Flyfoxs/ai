{
 "cells": [
  {
   "cell_type": "markdown",
   "metadata": {},
   "source": [
    "# 统计\n",
    "\n",
    "\n",
    "\n",
    "### 伯努利分布(0-1)分布\n",
    "\n",
    "### 二项式分布\n",
    "100次抛硬币里面得到n次正面的概率\n",
    "\n",
    "\n",
    "### 泊松分布\n",
    "\n",
    "\n",
    "\n",
    "### 指数分布\n",
    "\n",
    "### 均匀分布\n",
    "000 001 010 100 生成的概率是一样的,但是这个就是一个伯努利分布的特例\n",
    "\n",
    "### 高斯分布\n",
    "均匀分布的和就是高斯分布,比如100次色子的和相加的和就是一个高斯分布"
   ]
  },
  {
   "cell_type": "code",
   "execution_count": null,
   "metadata": {
    "collapsed": true
   },
   "outputs": [],
   "source": []
  }
 ],
 "metadata": {
  "kernelspec": {
   "display_name": "Python 3",
   "language": "python",
   "name": "python3"
  },
  "language_info": {
   "codemirror_mode": {
    "name": "ipython",
    "version": 3
   },
   "file_extension": ".py",
   "mimetype": "text/x-python",
   "name": "python",
   "nbconvert_exporter": "python",
   "pygments_lexer": "ipython3",
   "version": "3.6.3"
  }
 },
 "nbformat": 4,
 "nbformat_minor": 2
}
