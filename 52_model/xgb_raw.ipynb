{
 "cells": [
  {
   "cell_type": "code",
   "execution_count": 29,
   "metadata": {},
   "outputs": [
    {
     "name": "stdout",
     "output_type": "stream",
     "text": [
      "(150, 5)\n"
     ]
    },
    {
     "data": {
      "text/html": [
       "<div>\n",
       "<style scoped>\n",
       "    .dataframe tbody tr th:only-of-type {\n",
       "        vertical-align: middle;\n",
       "    }\n",
       "\n",
       "    .dataframe tbody tr th {\n",
       "        vertical-align: top;\n",
       "    }\n",
       "\n",
       "    .dataframe thead th {\n",
       "        text-align: right;\n",
       "    }\n",
       "</style>\n",
       "<table border=\"1\" class=\"dataframe\">\n",
       "  <thead>\n",
       "    <tr style=\"text-align: right;\">\n",
       "      <th></th>\n",
       "      <th>sepal_length_(cm)</th>\n",
       "      <th>sepal_width_(cm)</th>\n",
       "      <th>petal_length_(cm)</th>\n",
       "      <th>petal_width_(cm)</th>\n",
       "      <th>TARGET</th>\n",
       "    </tr>\n",
       "  </thead>\n",
       "  <tbody>\n",
       "    <tr>\n",
       "      <th>0</th>\n",
       "      <td>5.1</td>\n",
       "      <td>3.5</td>\n",
       "      <td>1.4</td>\n",
       "      <td>0.2</td>\n",
       "      <td>0</td>\n",
       "    </tr>\n",
       "    <tr>\n",
       "      <th>1</th>\n",
       "      <td>4.9</td>\n",
       "      <td>3.0</td>\n",
       "      <td>1.4</td>\n",
       "      <td>0.2</td>\n",
       "      <td>0</td>\n",
       "    </tr>\n",
       "    <tr>\n",
       "      <th>2</th>\n",
       "      <td>4.7</td>\n",
       "      <td>3.2</td>\n",
       "      <td>1.3</td>\n",
       "      <td>0.2</td>\n",
       "      <td>0</td>\n",
       "    </tr>\n",
       "    <tr>\n",
       "      <th>3</th>\n",
       "      <td>4.6</td>\n",
       "      <td>3.1</td>\n",
       "      <td>1.5</td>\n",
       "      <td>0.2</td>\n",
       "      <td>0</td>\n",
       "    </tr>\n",
       "    <tr>\n",
       "      <th>4</th>\n",
       "      <td>5.0</td>\n",
       "      <td>3.6</td>\n",
       "      <td>1.4</td>\n",
       "      <td>0.2</td>\n",
       "      <td>0</td>\n",
       "    </tr>\n",
       "  </tbody>\n",
       "</table>\n",
       "</div>"
      ],
      "text/plain": [
       "   sepal_length_(cm)  sepal_width_(cm)  petal_length_(cm)  petal_width_(cm)  \\\n",
       "0                5.1               3.5                1.4               0.2   \n",
       "1                4.9               3.0                1.4               0.2   \n",
       "2                4.7               3.2                1.3               0.2   \n",
       "3                4.6               3.1                1.5               0.2   \n",
       "4                5.0               3.6                1.4               0.2   \n",
       "\n",
       "   TARGET  \n",
       "0       0  \n",
       "1       0  \n",
       "2       0  \n",
       "3       0  \n",
       "4       0  "
      ]
     },
     "execution_count": 29,
     "metadata": {},
     "output_type": "execute_result"
    }
   ],
   "source": [
    "from sklearn import datasets\n",
    "import pandas as pd\n",
    "import numpy as np\n",
    "from xgboost import XGBClassifier\n",
    "iris = datasets.load_iris()\n",
    "df = pd.DataFrame( iris.data , columns=iris.feature_names)\n",
    "df['TARGET'] = iris.target\n",
    "print(df.shape)\n",
    "df.columns = [col.replace(' ', '_') for col in df.columns]\n",
    "df = df[df.TARGET.isin([0, 1])]\n",
    "\n",
    "X = df.iloc[:,:-1]\n",
    "y = df.TARGET\n",
    "\n",
    "df.head()\n"
   ]
  },
  {
   "cell_type": "code",
   "execution_count": 30,
   "metadata": {},
   "outputs": [
    {
     "data": {
      "text/html": [
       "<div>\n",
       "<style scoped>\n",
       "    .dataframe tbody tr th:only-of-type {\n",
       "        vertical-align: middle;\n",
       "    }\n",
       "\n",
       "    .dataframe tbody tr th {\n",
       "        vertical-align: top;\n",
       "    }\n",
       "\n",
       "    .dataframe thead th {\n",
       "        text-align: right;\n",
       "    }\n",
       "</style>\n",
       "<table border=\"1\" class=\"dataframe\">\n",
       "  <thead>\n",
       "    <tr style=\"text-align: right;\">\n",
       "      <th></th>\n",
       "      <th>sepal_length_(cm)</th>\n",
       "      <th>sepal_width_(cm)</th>\n",
       "      <th>petal_length_(cm)</th>\n",
       "      <th>petal_width_(cm)</th>\n",
       "    </tr>\n",
       "  </thead>\n",
       "  <tbody>\n",
       "    <tr>\n",
       "      <th>0</th>\n",
       "      <td>5.1</td>\n",
       "      <td>3.5</td>\n",
       "      <td>1.4</td>\n",
       "      <td>0.2</td>\n",
       "    </tr>\n",
       "    <tr>\n",
       "      <th>1</th>\n",
       "      <td>4.9</td>\n",
       "      <td>3.0</td>\n",
       "      <td>1.4</td>\n",
       "      <td>0.2</td>\n",
       "    </tr>\n",
       "    <tr>\n",
       "      <th>2</th>\n",
       "      <td>4.7</td>\n",
       "      <td>3.2</td>\n",
       "      <td>1.3</td>\n",
       "      <td>0.2</td>\n",
       "    </tr>\n",
       "    <tr>\n",
       "      <th>3</th>\n",
       "      <td>4.6</td>\n",
       "      <td>3.1</td>\n",
       "      <td>1.5</td>\n",
       "      <td>0.2</td>\n",
       "    </tr>\n",
       "    <tr>\n",
       "      <th>4</th>\n",
       "      <td>5.0</td>\n",
       "      <td>3.6</td>\n",
       "      <td>1.4</td>\n",
       "      <td>0.2</td>\n",
       "    </tr>\n",
       "  </tbody>\n",
       "</table>\n",
       "</div>"
      ],
      "text/plain": [
       "   sepal_length_(cm)  sepal_width_(cm)  petal_length_(cm)  petal_width_(cm)\n",
       "0                5.1               3.5                1.4               0.2\n",
       "1                4.9               3.0                1.4               0.2\n",
       "2                4.7               3.2                1.3               0.2\n",
       "3                4.6               3.1                1.5               0.2\n",
       "4                5.0               3.6                1.4               0.2"
      ]
     },
     "execution_count": 30,
     "metadata": {},
     "output_type": "execute_result"
    }
   ],
   "source": [
    "X.head()"
   ]
  },
  {
   "cell_type": "code",
   "execution_count": 31,
   "metadata": {},
   "outputs": [
    {
     "data": {
      "text/plain": [
       "1    50\n",
       "0    50\n",
       "Name: TARGET, dtype: int64"
      ]
     },
     "execution_count": 31,
     "metadata": {},
     "output_type": "execute_result"
    }
   ],
   "source": [
    "y.value_counts()"
   ]
  },
  {
   "cell_type": "code",
   "execution_count": 32,
   "metadata": {},
   "outputs": [
    {
     "name": "stdout",
     "output_type": "stream",
     "text": [
      "[0]\ttrain-logloss:0.453463\tvali-logloss:0.453463\n",
      "Multiple eval metrics have been passed: 'vali-logloss' will be used for early stopping.\n",
      "\n",
      "Will train until vali-logloss hasn't improved in 10 rounds.\n",
      "[1]\ttrain-logloss:0.315917\tvali-logloss:0.315917\n",
      "[2]\ttrain-logloss:0.227687\tvali-logloss:0.227687\n",
      "[3]\ttrain-logloss:0.167921\tvali-logloss:0.167921\n",
      "[4]\ttrain-logloss:0.12611\tvali-logloss:0.12611\n",
      "[5]\ttrain-logloss:0.09623\tvali-logloss:0.09623\n",
      "[6]\ttrain-logloss:0.074543\tvali-logloss:0.074543\n",
      "[7]\ttrain-logloss:0.058603\tvali-logloss:0.058603\n",
      "[8]\ttrain-logloss:0.046759\tvali-logloss:0.046759\n",
      "[9]\ttrain-logloss:0.037864\tvali-logloss:0.037864\n",
      "[10]\ttrain-logloss:0.03111\tvali-logloss:0.03111\n",
      "[11]\ttrain-logloss:0.025925\tvali-logloss:0.025925\n",
      "[12]\ttrain-logloss:0.021898\tvali-logloss:0.021898\n",
      "[13]\ttrain-logloss:0.018732\tvali-logloss:0.018732\n",
      "[14]\ttrain-logloss:0.018732\tvali-logloss:0.018732\n",
      "[15]\ttrain-logloss:0.018732\tvali-logloss:0.018732\n",
      "[16]\ttrain-logloss:0.018732\tvali-logloss:0.018732\n",
      "[17]\ttrain-logloss:0.018732\tvali-logloss:0.018732\n",
      "[18]\ttrain-logloss:0.018732\tvali-logloss:0.018732\n",
      "[19]\ttrain-logloss:0.018732\tvali-logloss:0.018732\n",
      "[20]\ttrain-logloss:0.018732\tvali-logloss:0.018732\n",
      "[21]\ttrain-logloss:0.018732\tvali-logloss:0.018732\n",
      "[22]\ttrain-logloss:0.018732\tvali-logloss:0.018732\n",
      "[23]\ttrain-logloss:0.018732\tvali-logloss:0.018732\n",
      "Stopping. Best iteration:\n",
      "[13]\ttrain-logloss:0.018732\tvali-logloss:0.018732\n",
      "\n"
     ]
    }
   ],
   "source": [
    "import xgboost as xgb\n",
    "params  = {'objective': 'binary:logistic',\n",
    "           'eval_metric': 'logloss', \n",
    "          #'num_class': 2\n",
    "          } \n",
    "\n",
    "bst = xgb.train(params=params, dtrain=xgb.DMatrix(X, y), \n",
    "                evals=[(xgb.DMatrix(X, y), 'train'), (xgb.DMatrix(X[:100], y[:100]), 'vali')], \n",
    "                early_stopping_rounds=10,\n",
    "                num_boost_round=100, verbose_eval=True,\n",
    "                #callbacks=[xgb.callback.print_evaluation(show_stdv=False)]\n",
    "               )   \n",
    "\n",
    "#bst.predict(xgb.DMatrix(test.values)) "
   ]
  },
  {
   "cell_type": "code",
   "execution_count": 33,
   "metadata": {},
   "outputs": [
    {
     "name": "stdout",
     "output_type": "stream",
     "text": [
      "Best: score:0.018732, iteration:13, ntree_limit:14\n"
     ]
    },
    {
     "data": {
      "text/plain": [
       "array([0.01855747, 0.01855747, 0.01855747, 0.01855747, 0.01855747,\n",
       "       0.01855747, 0.01855747, 0.01855747, 0.01855747, 0.01855747],\n",
       "      dtype=float32)"
      ]
     },
     "execution_count": 33,
     "metadata": {},
     "output_type": "execute_result"
    }
   ],
   "source": [
    "print(f'Best: score:{bst.best_score}, iteration:{bst.best_iteration}, ntree_limit:{bst.best_ntree_limit}')\n",
    "bst.predict(xgb.DMatrix(X))[:10]"
   ]
  },
  {
   "cell_type": "code",
   "execution_count": 34,
   "metadata": {},
   "outputs": [
    {
     "data": {
      "text/plain": [
       "array([0.02165981, 0.02165981, 0.02165981, 0.02165981, 0.02165981,\n",
       "       0.02165981, 0.02165981, 0.02165981, 0.02165981, 0.02165981],\n",
       "      dtype=float32)"
      ]
     },
     "execution_count": 34,
     "metadata": {},
     "output_type": "execute_result"
    }
   ],
   "source": [
    "bst.predict(xgb.DMatrix(X), ntree_limit=bst.best_iteration)[:10]"
   ]
  },
  {
   "cell_type": "code",
   "execution_count": 35,
   "metadata": {},
   "outputs": [
    {
     "data": {
      "text/plain": [
       "array([0.01855746, 0.01855746, 0.01855746, 0.01855746, 0.01855746,\n",
       "       0.01855746, 0.01855746, 0.01855746, 0.01855746, 0.01855746],\n",
       "      dtype=float32)"
      ]
     },
     "execution_count": 35,
     "metadata": {},
     "output_type": "execute_result"
    }
   ],
   "source": [
    "bst.predict(xgb.DMatrix(X), ntree_limit=bst.best_ntree_limit)[:10]"
   ]
  },
  {
   "cell_type": "code",
   "execution_count": 36,
   "metadata": {},
   "outputs": [
    {
     "data": {
      "text/plain": [
       "<matplotlib.axes._subplots.AxesSubplot at 0x1a0b089cc0>"
      ]
     },
     "execution_count": 36,
     "metadata": {},
     "output_type": "execute_result"
    },
    {
     "data": {
      "image/png": "[encoded data removed]",
      "text/plain": [
       "<matplotlib.figure.Figure at 0x1a0a87a860>"
      ]
     },
     "metadata": {},
     "output_type": "display_data"
    }
   ],
   "source": [
    "%matplotlib inline\n",
    "xgb.plot_importance(bst)"
   ]
  },
  {
   "cell_type": "code",
   "execution_count": 37,
   "metadata": {},
   "outputs": [
    {
     "data": {
      "text/plain": [
       "<matplotlib.axes._subplots.AxesSubplot at 0x1a0b089c50>"
      ]
     },
     "execution_count": 37,
     "metadata": {},
     "output_type": "execute_result"
    },
    {
     "data": {
      "image/png": "[encoded data removed]",
      "text/plain": [
       "<matplotlib.figure.Figure at 0x1a0b0bcdd8>"
      ]
     },
     "metadata": {},
     "output_type": "display_data"
    }
   ],
   "source": [
    "xgb.plot_tree(bst, num_trees=2)"
   ]
  },
  {
   "cell_type": "code",
   "execution_count": 38,
   "metadata": {},
   "outputs": [
    {
     "data": {
      "image/svg+xml": [
       "<?xml version=\"1.0\" encoding=\"UTF-8\" standalone=\"no\"?>\n",
       "<!DOCTYPE svg PUBLIC \"-//W3C//DTD SVG 1.1//EN\"\n",
       " \"http://www.w3.org/Graphics/SVG/1.1/DTD/svg11.dtd\">\n",
       "<!-- Generated by graphviz version 2.40.1 (20161225.0304)\n",
       " -->\n",
       "<!-- Title: %3 Pages: 1 -->\n",
       "<svg width=\"226pt\" height=\"285pt\"\n",
       " viewBox=\"0.00 0.00 225.71 284.80\" xmlns=\"http://www.w3.org/2000/svg\" xmlns:xlink=\"http://www.w3.org/1999/xlink\">\n",
       "<g id=\"graph0\" class=\"graph\" transform=\"scale(1 1) rotate(0) translate(4 280.7958)\">\n",
       "<title>%3</title>\n",
       "<polygon fill=\"#ffffff\" stroke=\"transparent\" points=\"-4,4 -4,-280.7958 221.7061,-280.7958 221.7061,4 -4,4\"/>\n",
       "<!-- 0 -->\n",
       "<g id=\"node1\" class=\"node\">\n",
       "<title>0</title>\n",
       "<ellipse fill=\"none\" stroke=\"#000000\" cx=\"110.0186\" cy=\"-181.3979\" rx=\"95.2959\" ry=\"95.2959\"/>\n",
       "<text text-anchor=\"middle\" x=\"110.0186\" y=\"-177.1979\" font-family=\"Times,serif\" font-size=\"14.00\" fill=\"#000000\">petal_length_(cm)&lt;2.45</text>\n",
       "</g>\n",
       "<!-- 1 -->\n",
       "<g id=\"node2\" class=\"node\">\n",
       "<title>1</title>\n",
       "<polygon fill=\"none\" stroke=\"#000000\" points=\"102.0557,-36 -.0186,-36 -.0186,0 102.0557,0 102.0557,-36\"/>\n",
       "<text text-anchor=\"middle\" x=\"51.0186\" y=\"-13.8\" font-family=\"Times,serif\" font-size=\"14.00\" fill=\"#000000\">leaf=&#45;0.373621</text>\n",
       "</g>\n",
       "<!-- 0&#45;&gt;1 -->\n",
       "<g id=\"edge1\" class=\"edge\">\n",
       "<title>0&#45;&gt;1</title>\n",
       "<path fill=\"none\" stroke=\"#0000ff\" d=\"M77.5844,-91.5729C71.5839,-74.9547 65.7469,-58.7894 61.0798,-45.864\"/>\n",
       "<polygon fill=\"#0000ff\" stroke=\"#0000ff\" points=\"64.2951,-44.463 57.6069,-36.246 57.7112,-46.8403 64.2951,-44.463\"/>\n",
       "<text text-anchor=\"middle\" x=\"103.6323\" y=\"-56.8\" font-family=\"Times,serif\" font-size=\"14.00\" fill=\"#000000\">yes, missing</text>\n",
       "</g>\n",
       "<!-- 2 -->\n",
       "<g id=\"node3\" class=\"node\">\n",
       "<title>2</title>\n",
       "<polygon fill=\"none\" stroke=\"#000000\" points=\"217.8943,-36 120.1428,-36 120.1428,0 217.8943,0 217.8943,-36\"/>\n",
       "<text text-anchor=\"middle\" x=\"169.0186\" y=\"-13.8\" font-family=\"Times,serif\" font-size=\"14.00\" fill=\"#000000\">leaf=0.373621</text>\n",
       "</g>\n",
       "<!-- 0&#45;&gt;2 -->\n",
       "<g id=\"edge2\" class=\"edge\">\n",
       "<title>0&#45;&gt;2</title>\n",
       "<path fill=\"none\" stroke=\"#ff0000\" d=\"M142.4527,-91.5729C148.4533,-74.9547 154.2902,-58.7894 158.9574,-45.864\"/>\n",
       "<polygon fill=\"#ff0000\" stroke=\"#ff0000\" points=\"162.326,-46.8403 162.4302,-36.246 155.742,-44.463 162.326,-46.8403\"/>\n",
       "<text text-anchor=\"middle\" x=\"161.0186\" y=\"-56.8\" font-family=\"Times,serif\" font-size=\"14.00\" fill=\"#000000\">no</text>\n",
       "</g>\n",
       "</g>\n",
       "</svg>\n"
      ],
      "text/plain": [
       "<graphviz.dot.Digraph at 0x1a0b164208>"
      ]
     },
     "execution_count": 38,
     "metadata": {},
     "output_type": "execute_result"
    }
   ],
   "source": [
    "xgb.to_graphviz(bst, num_trees=2)"
   ]
  },
  {
   "cell_type": "code",
   "execution_count": 39,
   "metadata": {
    "collapsed": true
   },
   "outputs": [],
   "source": [
    "# Xgb with CV"
   ]
  },
  {
   "cell_type": "code",
   "execution_count": 40,
   "metadata": {},
   "outputs": [
    {
     "name": "stdout",
     "output_type": "stream",
     "text": [
      "running cross validation, disable standard deviation display\n",
      "[0]\ttrain-error:0+0\ttrain-logloss:0.457151+8.15843e-06\ttest-error:0+0\ttest-logloss:0.457588+0.000528419\n",
      "Multiple eval metrics have been passed: 'test-logloss' will be used for early stopping.\n",
      "\n",
      "Will train until test-logloss hasn't improved in 3 rounds.\n",
      "[1]\ttrain-error:0+0\ttrain-logloss:0.32051+8.2365e-06\ttest-error:0+0\ttest-logloss:0.321055+0.000661706\n",
      "[2]\ttrain-error:0+0\ttrain-logloss:0.232463+8.2365e-06\ttest-error:0+0\ttest-logloss:0.233031+0.000688852\n",
      "[3]\ttrain-error:0+0\ttrain-logloss:0.172621+8.2365e-06\ttest-error:0+0\ttest-logloss:0.173179+0.000677692\n",
      "[4]\ttrain-error:0+0\ttrain-logloss:0.130628+8.53229e-06\ttest-error:0+0\ttest-logloss:0.131164+0.000649797\n",
      "[5]\ttrain-error:0+0\ttrain-logloss:0.100518+8.93532e-06\ttest-error:0+0\ttest-logloss:0.101025+0.000615166\n",
      "[6]\ttrain-error:0+0\ttrain-logloss:0.0785786+8.93532e-06\ttest-error:0+0\ttest-logloss:0.0790562+0.000577511\n",
      "[7]\ttrain-error:0+0\ttrain-logloss:0.0623814+9.30806e-06\ttest-error:0+0\ttest-logloss:0.0628274+0.000538801\n",
      "[8]\ttrain-error:0+0\ttrain-logloss:0.0502794+9.30806e-06\ttest-error:0+0\ttest-logloss:0.050694+0.000500495\n",
      "[9]\ttrain-error:0+0\ttrain-logloss:0.0411324+9.30806e-06\ttest-error:0+0\ttest-logloss:0.0415172+0.000463588\n",
      "[10]\ttrain-error:0+0\ttrain-logloss:0.0341376+8.93532e-06\ttest-error:0+0\ttest-logloss:0.0344938+0.000428611\n",
      "[11]\ttrain-error:0+0\ttrain-logloss:0.028725+8.53229e-06\ttest-error:0+0\ttest-logloss:0.0290544+0.000396235\n",
      "[12]\ttrain-error:0+0\ttrain-logloss:0.0244858+7.83326e-06\ttest-error:0+0\ttest-logloss:0.02479+0.000366007\n",
      "[13]\ttrain-error:0+0\ttrain-logloss:0.0244808+1.37608e-05\ttest-error:0+0\ttest-logloss:0.0248418+0.000429686\n",
      "[14]\ttrain-error:0+0\ttrain-logloss:0.0244776+1.79176e-05\ttest-error:0+0\ttest-logloss:0.0248842+0.00048183\n",
      "[15]\ttrain-error:0+0\ttrain-logloss:0.0244756+2.05193e-05\ttest-error:0+0\ttest-logloss:0.024919+0.000524666\n",
      "Stopping. Best iteration:\n",
      "[12]\ttrain-error:0+0\ttrain-logloss:0.0244858+7.83326e-06\ttest-error:0+0\ttest-logloss:0.02479+0.000366007\n",
      "\n"
     ]
    }
   ],
   "source": [
    "print ('running cross validation, disable standard deviation display')\n",
    "# 交叉验证，只输入下面信息：\n",
    "# [iteration]  metric_name:mean_value\n",
    "res = xgb.cv(params, xgb.DMatrix(X, y), \n",
    "             num_boost_round=100, nfold=5,\n",
    "             metrics={'error', 'logloss'}, seed = 0,\n",
    "             callbacks=[xgb.callback.print_evaluation(show_stdv=True),\n",
    "                        xgb.callback.early_stop(3)]\n",
    "            )"
   ]
  },
  {
   "cell_type": "code",
   "execution_count": 41,
   "metadata": {},
   "outputs": [
    {
     "name": "stdout",
     "output_type": "stream",
     "text": [
      "running cross validation, disable standard deviation display\n",
      "[0]\ttrain-error:0\ttrain-logloss:0.457151\ttest-error:0\ttest-logloss:0.457588\n",
      "Multiple eval metrics have been passed: 'test-logloss' will be used for early stopping.\n",
      "\n",
      "Will train until test-logloss hasn't improved in 3 rounds.\n",
      "[1]\ttrain-error:0\ttrain-logloss:0.32051\ttest-error:0\ttest-logloss:0.321055\n",
      "[2]\ttrain-error:0\ttrain-logloss:0.232463\ttest-error:0\ttest-logloss:0.233031\n",
      "[3]\ttrain-error:0\ttrain-logloss:0.172621\ttest-error:0\ttest-logloss:0.173179\n",
      "[4]\ttrain-error:0\ttrain-logloss:0.130628\ttest-error:0\ttest-logloss:0.131164\n",
      "[5]\ttrain-error:0\ttrain-logloss:0.100518\ttest-error:0\ttest-logloss:0.101025\n",
      "[6]\ttrain-error:0\ttrain-logloss:0.0785786\ttest-error:0\ttest-logloss:0.0790562\n",
      "[7]\ttrain-error:0\ttrain-logloss:0.0623814\ttest-error:0\ttest-logloss:0.0628274\n",
      "[8]\ttrain-error:0\ttrain-logloss:0.0502794\ttest-error:0\ttest-logloss:0.050694\n",
      "[9]\ttrain-error:0\ttrain-logloss:0.0411324\ttest-error:0\ttest-logloss:0.0415172\n",
      "[10]\ttrain-error:0\ttrain-logloss:0.0341376\ttest-error:0\ttest-logloss:0.0344938\n",
      "[11]\ttrain-error:0\ttrain-logloss:0.028725\ttest-error:0\ttest-logloss:0.0290544\n",
      "[12]\ttrain-error:0\ttrain-logloss:0.0244858\ttest-error:0\ttest-logloss:0.02479\n",
      "[13]\ttrain-error:0\ttrain-logloss:0.0244808\ttest-error:0\ttest-logloss:0.0248418\n",
      "[14]\ttrain-error:0\ttrain-logloss:0.0244776\ttest-error:0\ttest-logloss:0.0248842\n",
      "[15]\ttrain-error:0\ttrain-logloss:0.0244756\ttest-error:0\ttest-logloss:0.024919\n",
      "Stopping. Best iteration:\n",
      "[12]\ttrain-error:0+0\ttrain-logloss:0.0244858+7.83326e-06\ttest-error:0+0\ttest-logloss:0.02479+0.000366007\n",
      "\n"
     ]
    }
   ],
   "source": [
    "print ('running cross validation, disable standard deviation display')\n",
    "# 交叉验证，只输入下面信息：\n",
    "# [iteration]  metric_name:mean_value\n",
    "res = xgb.cv(params, xgb.DMatrix(X, y), \n",
    "             num_boost_round=100, nfold=5,\n",
    "             metrics={'error', 'logloss'}, seed = 0,\n",
    "             callbacks=[xgb.callback.print_evaluation(show_stdv=False),\n",
    "                        xgb.callback.early_stop(3)]\n",
    "            )"
   ]
  },
  {
   "cell_type": "code",
   "execution_count": 53,
   "metadata": {},
   "outputs": [
    {
     "data": {
      "text/plain": [
       "<matplotlib.axes._subplots.AxesSubplot at 0x1a0b182438>"
      ]
     },
     "execution_count": 53,
     "metadata": {},
     "output_type": "execute_result"
    },
    {
     "data": {
      "image/png": "[encoded data removed]",
      "text/plain": [
       "<matplotlib.figure.Figure at 0x1a0b182a20>"
      ]
     },
     "metadata": {},
     "output_type": "display_data"
    }
   ],
   "source": [
    "from xgboost import plot_importance\n",
    "plot_importance(bst)"
   ]
  },
  {
   "cell_type": "code",
   "execution_count": 50,
   "metadata": {},
   "outputs": [
    {
     "name": "stdout",
     "output_type": "stream",
     "text": [
      "['__call__', '__class__', '__delattr__', '__dir__', '__doc__', '__eq__', '__format__', '__func__', '__ge__', '__get__', '__getattribute__', '__gt__', '__hash__', '__init__', '__init_subclass__', '__le__', '__lt__', '__ne__', '__new__', '__reduce__', '__reduce_ex__', '__repr__', '__self__', '__setattr__', '__sizeof__', '__str__', '__subclasshook__']\n"
     ]
    }
   ],
   "source": [
    "\n",
    "def print_imp_list( train, clf, order_by_wight=True, show_zero=True):\n",
    "    print(dir(clf.boost))\n",
    "    if hasattr(clf, 'feature_importances_'):\n",
    "        imp_item = dict(zip(train.columns, clf.feature_importances_))\n",
    "\n",
    "        imp_list = sorted(imp_item.items(), key=lambda imp: imp[1], reverse=True)\n",
    "\n",
    "        # for key, value in imp_list:\n",
    "        #     if value > 0:\n",
    "        #         print(f'Import {value}: {key}')\n",
    "        #         print(train[str(key)].dtype.name)\n",
    "        #     else:\n",
    "        #         print(f'zeor imp:{key}')\n",
    "        #\n",
    "\n",
    "        zero_list = [key for key, value in imp_list if value==0]\n",
    "\n",
    "        print(f'Full List:{len(train.columns)}, Zero List:{len(zero_list)}, ')\n",
    "\n",
    "\n",
    "        imp_list = [(key, value, train[key].dtype.name) for key, value in imp_list if value>0]\n",
    "\n",
    "        if order_by_wight :\n",
    "            imp_list = sorted(imp_list, key=lambda imp: imp[1], reverse=True)\n",
    "        else:\n",
    "            imp_list = sorted(imp_list, key=lambda imp: imp[2])\n",
    "\n",
    "        import_sn = 0\n",
    "        for (key, value, dtype) in imp_list:\n",
    "            import_sn += 1\n",
    "            print(\"%03d: %s, %s, %s\" % ( import_sn, str(key).ljust(35), str(value).ljust(5), dtype))\n",
    "\n",
    "        print(f'Full List:{len(train.columns)}, Zero List:{len(zero_list)}, ')\n",
    "\n",
    "print_imp_list(X, bst)\n"
   ]
  },
  {
   "cell_type": "code",
   "execution_count": null,
   "metadata": {
    "collapsed": true
   },
   "outputs": [],
   "source": []
  }
 ],
 "metadata": {
  "kernelspec": {
   "display_name": "Python 3",
   "language": "python",
   "name": "python3"
  },
  "language_info": {
   "codemirror_mode": {
    "name": "ipython",
    "version": 3
   },
   "file_extension": ".py",
   "mimetype": "text/x-python",
   "name": "python",
   "nbconvert_exporter": "python",
   "pygments_lexer": "ipython3",
   "version": "3.6.3"
  }
 },
 "nbformat": 4,
 "nbformat_minor": 2
}
