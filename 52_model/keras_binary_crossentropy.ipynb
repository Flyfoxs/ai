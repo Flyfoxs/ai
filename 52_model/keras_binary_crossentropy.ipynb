{
 "cells": [
  {
   "cell_type": "code",
   "execution_count": 3,
   "metadata": {},
   "outputs": [
    {
     "name": "stdout",
     "output_type": "stream",
     "text": [
      "(1000, 20) (1000, 1)\n",
      "Epoch 1/20\n",
      "1000/1000 [==============================] - 1s 774us/step - loss: 0.7455 - acc: 0.4750\n",
      "Epoch 2/20\n",
      "1000/1000 [==============================] - 0s 32us/step - loss: 0.7079 - acc: 0.5160\n",
      "Epoch 3/20\n",
      "1000/1000 [==============================] - 0s 33us/step - loss: 0.7061 - acc: 0.5160\n",
      "Epoch 4/20\n",
      "1000/1000 [==============================] - 0s 36us/step - loss: 0.7067 - acc: 0.4920\n",
      "Epoch 5/20\n",
      "1000/1000 [==============================] - 0s 41us/step - loss: 0.7106 - acc: 0.4840\n",
      "Epoch 6/20\n",
      "1000/1000 [==============================] - 0s 42us/step - loss: 0.7049 - acc: 0.5060\n",
      "Epoch 7/20\n",
      "1000/1000 [==============================] - 0s 34us/step - loss: 0.6965 - acc: 0.5290\n",
      "Epoch 8/20\n",
      "1000/1000 [==============================] - 0s 30us/step - loss: 0.6876 - acc: 0.5450\n",
      "Epoch 9/20\n",
      "1000/1000 [==============================] - 0s 34us/step - loss: 0.7004 - acc: 0.4900\n",
      "Epoch 10/20\n",
      "1000/1000 [==============================] - 0s 37us/step - loss: 0.6992 - acc: 0.4990\n",
      "Epoch 11/20\n",
      "1000/1000 [==============================] - 0s 31us/step - loss: 0.6983 - acc: 0.5160\n",
      "Epoch 12/20\n",
      "1000/1000 [==============================] - 0s 32us/step - loss: 0.6945 - acc: 0.5180\n",
      "Epoch 13/20\n",
      "1000/1000 [==============================] - 0s 39us/step - loss: 0.6911 - acc: 0.5390\n",
      "Epoch 14/20\n",
      "1000/1000 [==============================] - 0s 29us/step - loss: 0.6976 - acc: 0.5260\n",
      "Epoch 15/20\n",
      "1000/1000 [==============================] - 0s 34us/step - loss: 0.6871 - acc: 0.5350\n",
      "Epoch 16/20\n",
      "1000/1000 [==============================] - 0s 33us/step - loss: 0.6868 - acc: 0.5560\n",
      "Epoch 17/20\n",
      "1000/1000 [==============================] - 0s 30us/step - loss: 0.6969 - acc: 0.5100\n",
      "Epoch 18/20\n",
      "1000/1000 [==============================] - 0s 29us/step - loss: 0.6922 - acc: 0.5410\n",
      "Epoch 19/20\n",
      "1000/1000 [==============================] - 0s 32us/step - loss: 0.6940 - acc: 0.5080\n",
      "Epoch 20/20\n",
      "1000/1000 [==============================] - 0s 34us/step - loss: 0.6916 - acc: 0.5370\n",
      "100/100 [==============================] - 0s 2ms/step\n"
     ]
    }
   ],
   "source": [
    "import numpy as np\n",
    "from keras.models import Sequential\n",
    "from keras.layers import Dense, Dropout\n",
    "\n",
    "# Generate dummy data\n",
    "x_train = np.random.random((1000, 20))\n",
    "y_train = np.random.randint(2, size=(1000, 1))\n",
    "x_test = np.random.random((100, 20))\n",
    "y_test = np.random.randint(2, size=(100, 1))\n",
    "\n",
    "model = Sequential()\n",
    "model.add(Dense(64, input_dim=20, activation='relu'))\n",
    "model.add(Dropout(0.5))\n",
    "model.add(Dense(64, activation='relu'))\n",
    "model.add(Dropout(0.5))\n",
    "model.add(Dense(1, activation='sigmoid'))\n",
    "\n",
    "model.compile(loss='binary_crossentropy',\n",
    "              optimizer='rmsprop',\n",
    "              metrics=['accuracy'])\n",
    "print(x_train.shape, y_train.shape)\n",
    "model.fit(x_train, y_train,\n",
    "          epochs=20,\n",
    "          batch_size=128)\n",
    "score = model.evaluate(x_test, y_test, batch_size=128)"
   ]
  },
  {
   "cell_type": "code",
   "execution_count": null,
   "metadata": {
    "collapsed": true
   },
   "outputs": [],
   "source": []
  }
 ],
 "metadata": {
  "kernelspec": {
   "display_name": "Python 3",
   "language": "python",
   "name": "python3"
  },
  "language_info": {
   "codemirror_mode": {
    "name": "ipython",
    "version": 3
   },
   "file_extension": ".py",
   "mimetype": "text/x-python",
   "name": "python",
   "nbconvert_exporter": "python",
   "pygments_lexer": "ipython3",
   "version": "3.6.3"
  }
 },
 "nbformat": 4,
 "nbformat_minor": 2
}
