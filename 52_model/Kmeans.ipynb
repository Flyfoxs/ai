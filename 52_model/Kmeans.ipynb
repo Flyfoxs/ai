{
 "cells": [
  {
   "cell_type": "code",
   "execution_count": 35,
   "metadata": {},
   "outputs": [
    {
     "name": "stdout",
     "output_type": "stream",
     "text": [
      "[0 1]\n",
      "[[1.         0.7       ]\n",
      " [3.         4.03333333]\n",
      " [4.         1.        ]]\n"
     ]
    },
    {
     "data": {
      "image/png": "[encoded data removed]",
      "text/plain": [
       "<matplotlib.figure.Figure at 0x1a17dbf6d8>"
      ]
     },
     "metadata": {},
     "output_type": "display_data"
    }
   ],
   "source": [
    "from sklearn.cluster import KMeans\n",
    "import numpy as np\n",
    "X = np.array([[1, 2], [1, 4], [1, 0], [1,0.1], # [1,0.2], [1,0.3], [1,0.4], [1,0.5], [1,0.6],\n",
    "              [4, 2], [4, 4], [4, 0], [4,4.1]\n",
    "             ])\n",
    "kmeans = KMeans(n_clusters=3, random_state=8,n_init=100, ).fit(X)\n",
    "kmeans.labels_\n",
    "\n",
    "print(kmeans.predict([[0, 0], [4, 4]]))\n",
    "\n",
    "center = kmeans.cluster_centers_\n",
    "print(center)\n",
    "\n",
    "import matplotlib.pyplot  as plt\n",
    "X.shape\n",
    "plt.scatter(X[:,0],X[:,1])\n",
    "\n",
    "#plt.scatter(X[0, :],X[1, :])\n",
    "\n",
    "plt.scatter(center[:,0],center[:,1])\n",
    "\n",
    "#plt.scatter(center[0,:],center[1,:])\n",
    "plt.show()"
   ]
  },
  {
   "cell_type": "code",
   "execution_count": 31,
   "metadata": {
    "collapsed": true
   },
   "outputs": [],
   "source": [
    "KMeans?"
   ]
  },
  {
   "cell_type": "code",
   "execution_count": null,
   "metadata": {
    "collapsed": true
   },
   "outputs": [],
   "source": []
  }
 ],
 "metadata": {
  "kernelspec": {
   "display_name": "Python 3",
   "language": "python",
   "name": "python3"
  },
  "language_info": {
   "codemirror_mode": {
    "name": "ipython",
    "version": 3
   },
   "file_extension": ".py",
   "mimetype": "text/x-python",
   "name": "python",
   "nbconvert_exporter": "python",
   "pygments_lexer": "ipython3",
   "version": "3.6.3"
  }
 },
 "nbformat": 4,
 "nbformat_minor": 2
}
