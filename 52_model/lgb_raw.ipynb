{
 "cells": [
  {
   "cell_type": "code",
   "execution_count": 1,
   "metadata": {},
   "outputs": [
    {
     "name": "stdout",
     "output_type": "stream",
     "text": [
      "(150, 5)\n"
     ]
    },
    {
     "data": {
      "text/html": [
       "<div>\n",
       "<style scoped>\n",
       "    .dataframe tbody tr th:only-of-type {\n",
       "        vertical-align: middle;\n",
       "    }\n",
       "\n",
       "    .dataframe tbody tr th {\n",
       "        vertical-align: top;\n",
       "    }\n",
       "\n",
       "    .dataframe thead th {\n",
       "        text-align: right;\n",
       "    }\n",
       "</style>\n",
       "<table border=\"1\" class=\"dataframe\">\n",
       "  <thead>\n",
       "    <tr style=\"text-align: right;\">\n",
       "      <th></th>\n",
       "      <th>sepal_length_(cm)</th>\n",
       "      <th>sepal_width_(cm)</th>\n",
       "      <th>petal_length_(cm)</th>\n",
       "      <th>petal_width_(cm)</th>\n",
       "      <th>TARGET</th>\n",
       "    </tr>\n",
       "  </thead>\n",
       "  <tbody>\n",
       "    <tr>\n",
       "      <th>0</th>\n",
       "      <td>5.1</td>\n",
       "      <td>3.5</td>\n",
       "      <td>1.4</td>\n",
       "      <td>0.2</td>\n",
       "      <td>0</td>\n",
       "    </tr>\n",
       "    <tr>\n",
       "      <th>1</th>\n",
       "      <td>4.9</td>\n",
       "      <td>3.0</td>\n",
       "      <td>1.4</td>\n",
       "      <td>0.2</td>\n",
       "      <td>0</td>\n",
       "    </tr>\n",
       "    <tr>\n",
       "      <th>2</th>\n",
       "      <td>4.7</td>\n",
       "      <td>3.2</td>\n",
       "      <td>1.3</td>\n",
       "      <td>0.2</td>\n",
       "      <td>0</td>\n",
       "    </tr>\n",
       "    <tr>\n",
       "      <th>3</th>\n",
       "      <td>4.6</td>\n",
       "      <td>3.1</td>\n",
       "      <td>1.5</td>\n",
       "      <td>0.2</td>\n",
       "      <td>0</td>\n",
       "    </tr>\n",
       "    <tr>\n",
       "      <th>4</th>\n",
       "      <td>5.0</td>\n",
       "      <td>3.6</td>\n",
       "      <td>1.4</td>\n",
       "      <td>0.2</td>\n",
       "      <td>0</td>\n",
       "    </tr>\n",
       "  </tbody>\n",
       "</table>\n",
       "</div>"
      ],
      "text/plain": [
       "   sepal_length_(cm)  sepal_width_(cm)  petal_length_(cm)  petal_width_(cm)  \\\n",
       "0                5.1               3.5                1.4               0.2   \n",
       "1                4.9               3.0                1.4               0.2   \n",
       "2                4.7               3.2                1.3               0.2   \n",
       "3                4.6               3.1                1.5               0.2   \n",
       "4                5.0               3.6                1.4               0.2   \n",
       "\n",
       "   TARGET  \n",
       "0       0  \n",
       "1       0  \n",
       "2       0  \n",
       "3       0  \n",
       "4       0  "
      ]
     },
     "execution_count": 1,
     "metadata": {},
     "output_type": "execute_result"
    }
   ],
   "source": [
    "from sklearn import datasets\n",
    "import pandas as pd\n",
    "import numpy as np\n",
    "from xgboost import XGBClassifier\n",
    "iris = datasets.load_iris()\n",
    "df = pd.DataFrame( iris.data , columns=iris.feature_names)\n",
    "df['TARGET'] = iris.target\n",
    "print(df.shape)\n",
    "df.columns = [col.replace(' ', '_') for col in df.columns]\n",
    "df = df[df.TARGET.isin([0, 1])]\n",
    "\n",
    "X = df.iloc[:,:-1]\n",
    "y = df.TARGET\n",
    "\n",
    "df.head()\n"
   ]
  },
  {
   "cell_type": "code",
   "execution_count": 2,
   "metadata": {},
   "outputs": [
    {
     "data": {
      "text/html": [
       "<div>\n",
       "<style scoped>\n",
       "    .dataframe tbody tr th:only-of-type {\n",
       "        vertical-align: middle;\n",
       "    }\n",
       "\n",
       "    .dataframe tbody tr th {\n",
       "        vertical-align: top;\n",
       "    }\n",
       "\n",
       "    .dataframe thead th {\n",
       "        text-align: right;\n",
       "    }\n",
       "</style>\n",
       "<table border=\"1\" class=\"dataframe\">\n",
       "  <thead>\n",
       "    <tr style=\"text-align: right;\">\n",
       "      <th></th>\n",
       "      <th>sepal_length_(cm)</th>\n",
       "      <th>sepal_width_(cm)</th>\n",
       "      <th>petal_length_(cm)</th>\n",
       "      <th>petal_width_(cm)</th>\n",
       "    </tr>\n",
       "  </thead>\n",
       "  <tbody>\n",
       "    <tr>\n",
       "      <th>0</th>\n",
       "      <td>5.1</td>\n",
       "      <td>3.5</td>\n",
       "      <td>1.4</td>\n",
       "      <td>0.2</td>\n",
       "    </tr>\n",
       "    <tr>\n",
       "      <th>1</th>\n",
       "      <td>4.9</td>\n",
       "      <td>3.0</td>\n",
       "      <td>1.4</td>\n",
       "      <td>0.2</td>\n",
       "    </tr>\n",
       "    <tr>\n",
       "      <th>2</th>\n",
       "      <td>4.7</td>\n",
       "      <td>3.2</td>\n",
       "      <td>1.3</td>\n",
       "      <td>0.2</td>\n",
       "    </tr>\n",
       "    <tr>\n",
       "      <th>3</th>\n",
       "      <td>4.6</td>\n",
       "      <td>3.1</td>\n",
       "      <td>1.5</td>\n",
       "      <td>0.2</td>\n",
       "    </tr>\n",
       "    <tr>\n",
       "      <th>4</th>\n",
       "      <td>5.0</td>\n",
       "      <td>3.6</td>\n",
       "      <td>1.4</td>\n",
       "      <td>0.2</td>\n",
       "    </tr>\n",
       "  </tbody>\n",
       "</table>\n",
       "</div>"
      ],
      "text/plain": [
       "   sepal_length_(cm)  sepal_width_(cm)  petal_length_(cm)  petal_width_(cm)\n",
       "0                5.1               3.5                1.4               0.2\n",
       "1                4.9               3.0                1.4               0.2\n",
       "2                4.7               3.2                1.3               0.2\n",
       "3                4.6               3.1                1.5               0.2\n",
       "4                5.0               3.6                1.4               0.2"
      ]
     },
     "execution_count": 2,
     "metadata": {},
     "output_type": "execute_result"
    }
   ],
   "source": [
    "X.head()"
   ]
  },
  {
   "cell_type": "code",
   "execution_count": 3,
   "metadata": {},
   "outputs": [
    {
     "data": {
      "text/plain": [
       "1    50\n",
       "0    50\n",
       "Name: TARGET, dtype: int64"
      ]
     },
     "execution_count": 3,
     "metadata": {},
     "output_type": "execute_result"
    }
   ],
   "source": [
    "y.value_counts()"
   ]
  },
  {
   "cell_type": "code",
   "execution_count": 8,
   "metadata": {},
   "outputs": [
    {
     "name": "stdout",
     "output_type": "stream",
     "text": [
      "[1]\tvalid_0's binary_logloss: 0.601758\tvalid_0's auc: 0.996\n",
      "Training until validation scores don't improve for 5 rounds.\n",
      "[2]\tvalid_0's binary_logloss: 0.526929\tvalid_0's auc: 0.9998\n",
      "[3]\tvalid_0's binary_logloss: 0.464578\tvalid_0's auc: 0.9998\n",
      "[4]\tvalid_0's binary_logloss: 0.411947\tvalid_0's auc: 0.9998\n",
      "[5]\tvalid_0's binary_logloss: 0.367058\tvalid_0's auc: 0.9998\n",
      "[6]\tvalid_0's binary_logloss: 0.327917\tvalid_0's auc: 1\n",
      "[7]\tvalid_0's binary_logloss: 0.293691\tvalid_0's auc: 1\n",
      "[8]\tvalid_0's binary_logloss: 0.263965\tvalid_0's auc: 1\n",
      "[9]\tvalid_0's binary_logloss: 0.237675\tvalid_0's auc: 1\n",
      "[10]\tvalid_0's binary_logloss: 0.214576\tvalid_0's auc: 1\n",
      "[11]\tvalid_0's binary_logloss: 0.194035\tvalid_0's auc: 1\n",
      "Early stopping, best iteration is:\n",
      "[6]\tvalid_0's binary_logloss: 0.327917\tvalid_0's auc: 1\n"
     ]
    },
    {
     "name": "stderr",
     "output_type": "stream",
     "text": [
      "/Users/lali2/dev/python/anaconda3/lib/python3.6/site-packages/lightgbm/engine.py:99: UserWarning: Found `num_trees` in params. Will use it instead of argument\n",
      "  warnings.warn(\"Found `{}` in params. Will use it instead of argument\".format(alias))\n"
     ]
    }
   ],
   "source": [
    "import lightgbm as lgb\n",
    "param = {'num_leaves':31, 'num_trees':100, 'objective':'binary'}\n",
    "param['metric'] = ['auc', 'binary_logloss']\n",
    "\n",
    "train_data = lgb.Dataset(X, label=y)\n",
    "test_data = lgb.Dataset(X, label=y, reference=train_data)\n",
    "\n",
    "num_round = 10\n",
    "bst = lgb.train(param, train_data, num_round, valid_sets=[test_data], early_stopping_rounds=5)\n",
    "\n",
    "#bst.predict(xgb.DMatrix(test.values)) "
   ]
  },
  {
   "cell_type": "code",
   "execution_count": 11,
   "metadata": {},
   "outputs": [
    {
     "name": "stdout",
     "output_type": "stream",
     "text": [
      "Best: score:defaultdict(<class 'dict'>, {'valid_0': {'binary_logloss': 0.327917111725047, 'auc': 1.0}}), iteration:6\n"
     ]
    },
    {
     "data": {
      "text/plain": [
       "array([0.27536628, 0.27933251, 0.27933251, 0.27933251, 0.26796883,\n",
       "       0.27536628, 0.26796883, 0.26796883, 0.27933251, 0.27933251,\n",
       "       0.27536628, 0.26796883, 0.27933251, 0.27933251, 0.27536628,\n",
       "       0.27536628, 0.27536628, 0.27536628, 0.27536628, 0.27536628,\n",
       "       0.27536628, 0.27536628, 0.26796883, 0.2869207 , 0.32255232,\n",
       "       0.27933251, 0.26796883, 0.27536628, 0.27536628, 0.27933251,\n",
       "       0.27933251, 0.27536628, 0.27536628, 0.27536628, 0.27933251,\n",
       "       0.27933251, 0.27536628, 0.27933251, 0.27933251, 0.27536628,\n",
       "       0.26796883, 0.27933251, 0.27933251, 0.26796883, 0.33077571,\n",
       "       0.27933251, 0.27536628, 0.27933251, 0.27536628, 0.27933251,\n",
       "       0.72642721, 0.72642721, 0.72642721, 0.73226441, 0.73226441,\n",
       "       0.73226441, 0.72642721, 0.73226441, 0.72642721, 0.73226441,\n",
       "       0.73226441, 0.72642721, 0.73226441, 0.72642721, 0.72642721,\n",
       "       0.72642721, 0.72642721, 0.73226441, 0.73226441, 0.73226441,\n",
       "       0.72642721, 0.73226441, 0.73226441, 0.73226441, 0.72642721,\n",
       "       0.72642721, 0.73226441, 0.72642721, 0.72642721, 0.73226441,\n",
       "       0.73226441, 0.73226441, 0.73226441, 0.73226441, 0.72642721,\n",
       "       0.72642721, 0.72642721, 0.73226441, 0.72642721, 0.73226441,\n",
       "       0.73226441, 0.72642721, 0.73226441, 0.73226441, 0.73226441,\n",
       "       0.72642721, 0.72642721, 0.72642721, 0.3505903 , 0.73226441])"
      ]
     },
     "execution_count": 11,
     "metadata": {},
     "output_type": "execute_result"
    }
   ],
   "source": [
    "print(f'Best: score:{bst.best_score}, iteration:{bst.best_iteration}')\n",
    "bst.predict(X, num_iteration=bst.best_iteration)"
   ]
  },
  {
   "cell_type": "code",
   "execution_count": null,
   "metadata": {
    "collapsed": true
   },
   "outputs": [],
   "source": []
  }
 ],
 "metadata": {
  "kernelspec": {
   "display_name": "Python 3",
   "language": "python",
   "name": "python3"
  },
  "language_info": {
   "codemirror_mode": {
    "name": "ipython",
    "version": 3
   },
   "file_extension": ".py",
   "mimetype": "text/x-python",
   "name": "python",
   "nbconvert_exporter": "python",
   "pygments_lexer": "ipython3",
   "version": "3.6.3"
  }
 },
 "nbformat": 4,
 "nbformat_minor": 2
}
