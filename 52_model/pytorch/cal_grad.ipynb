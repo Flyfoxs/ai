{
 "cells": [
  {
   "cell_type": "code",
   "execution_count": 1,
   "metadata": {},
   "outputs": [
    {
     "name": "stdout",
     "output_type": "stream",
     "text": [
      "torch.Size([4])\n"
     ]
    },
    {
     "data": {
      "text/plain": [
       "(tensor([ 2.,  4.,  6.,  8.]), None)"
      ]
     },
     "execution_count": 1,
     "metadata": {},
     "output_type": "execute_result"
    }
   ],
   "source": [
    "from __future__ import print_function\n",
    "import torch as t\n",
    "x = t.arange(0,4, requires_grad=True)\n",
    "y = x**2 + x*2\n",
    "print(x.size())\n",
    "z = y.sum()\n",
    "z.backward() # 从z开始反向传播\n",
    "x.grad, y.grad"
   ]
  },
  {
   "cell_type": "code",
   "execution_count": 2,
   "metadata": {},
   "outputs": [
    {
     "name": "stdout",
     "output_type": "stream",
     "text": [
      "tensor(26.)\n"
     ]
    }
   ],
   "source": [
    "print(z)"
   ]
  },
  {
   "cell_type": "code",
   "execution_count": 5,
   "metadata": {},
   "outputs": [
    {
     "name": "stdout",
     "output_type": "stream",
     "text": [
      "tensor([[ 2.0000,  2.6667,  3.3333],\n",
      "        [ 4.0000,  4.6667,  5.3333]])\n"
     ]
    }
   ],
   "source": [
    "#https://www.safaribooksonline.com/library/view/deep-learning-with/9781789534092/1ab6275a-a653-40db-9d93-87294b1ac3a1.xhtml\n",
    "\n",
    "import torch as t\n",
    "import numpy as np\n",
    "a = t.tensor(np.arange(1,7).reshape(2,3), requires_grad=True, dtype=t.float)\n",
    "b = a + 2\n",
    "c = 2*b*b\n",
    "out =  c.mean()\n",
    "out.backward()\n",
    "print(a.grad)"
   ]
  },
  {
   "cell_type": "code",
   "execution_count": null,
   "metadata": {
    "collapsed": true
   },
   "outputs": [],
   "source": []
  }
 ],
 "metadata": {
  "kernelspec": {
   "display_name": "Python 3",
   "language": "python",
   "name": "python3"
  },
  "language_info": {
   "codemirror_mode": {
    "name": "ipython",
    "version": 3
   },
   "file_extension": ".py",
   "mimetype": "text/x-python",
   "name": "python",
   "nbconvert_exporter": "python",
   "pygments_lexer": "ipython3",
   "version": "3.6.3"
  }
 },
 "nbformat": 4,
 "nbformat_minor": 2
}
