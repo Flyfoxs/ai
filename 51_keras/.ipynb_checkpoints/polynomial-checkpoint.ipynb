{
 "cells": [
  {
   "cell_type": "code",
   "execution_count": 1,
   "metadata": {},
   "outputs": [
    {
     "name": "stdout",
     "output_type": "stream",
     "text": [
      "[ 3.34727049 -2.08763962  1.78951724 12.1663519 ]\n",
      "       3         2\n",
      "3.347 x - 2.088 x + 1.79 x + 12.17\n"
     ]
    },
    {
     "data": {
      "text/plain": [
       "[<matplotlib.lines.Line2D at 0x10c306be0>]"
      ]
     },
     "execution_count": 1,
     "metadata": {},
     "output_type": "execute_result"
    },
    {
     "data": {
      "image/png": "[encoded data removed]",
      "text/plain": [
       "<matplotlib.figure.Figure at 0x10abc7978>"
      ]
     },
     "metadata": {},
     "output_type": "display_data"
    }
   ],
   "source": [
    "%matplotlib inline\n",
    "import matplotlib.pyplot as plt\n",
    "import numpy as np\n",
    "x = list(np.arange(0,4,0.1))\n",
    "#给3次多项式添加噪音\n",
    "y = list(map(lambda val: val**3*3 + np.random.random()*20 , x) )\n",
    "\n",
    "plt.scatter(x, y)\n",
    "\n",
    "#指明用3次多项式匹配\n",
    "w = np.polyfit (x, y, 3)\n",
    "fn = np.poly1d(w)\n",
    "\n",
    "#打印适配出来的参数和函数\n",
    "print(w)\n",
    "print(fn)\n",
    "\n",
    "plt.plot(x, fn(x))"
   ]
  },
  {
   "cell_type": "code",
   "execution_count": 4,
   "metadata": {},
   "outputs": [
    {
     "data": {
      "text/plain": [
       "[<matplotlib.lines.Line2D at 0x181c0e2fd0>]"
      ]
     },
     "execution_count": 4,
     "metadata": {},
     "output_type": "execute_result"
    },
    {
     "data": {
      "image/png": "[encoded data removed]",
      "text/plain": [
       "<matplotlib.figure.Figure at 0x181c02cc88>"
      ]
     },
     "metadata": {},
     "output_type": "display_data"
    }
   ],
   "source": [
    "%matplotlib inline\n",
    "import matplotlib.pyplot as plt\n",
    "from keras.datasets import mnist\n",
    "from keras.models import Sequential\n",
    "from keras.layers.core import Dense, Activation\n",
    "from keras.layers.advanced_activations import LeakyReLU, PReLU\n",
    "from keras.optimizers import SGD\n",
    "\n",
    "\n",
    "model = Sequential()\n",
    "#神经元个数越多,效果会越好,收敛越快,太少的话难以收敛到所需曲线\n",
    "model.add(Dense(100, input_shape=(1,)))\n",
    "\n",
    "#Relu,得到的是一条横线\n",
    "#Tanh,稍稍好于Relu,但是拟合的不够\n",
    "#sigmoid, 只要神经元个数足够(50+),训练1000轮以上,就能达到比较好的效果\n",
    "model.add(Activation('sigmoid'))\n",
    "#model.add(LeakyReLU(alpha=0.01))\n",
    "#model.add(Dense(3))\n",
    "\n",
    "model.add(Dense(1))\n",
    "model.compile(optimizer=\"sgd\", loss=\"mse\")\n",
    "model.fit(x, y, epochs=2000, verbose=0)\n",
    "\n",
    "plt.scatter(x, y)\n",
    "plt.plot(x, \n",
    "         model.predict(x) \n",
    "        )"
   ]
  },
  {
   "cell_type": "code",
   "execution_count": 3,
   "metadata": {},
   "outputs": [
    {
     "name": "stdout",
     "output_type": "stream",
     "text": [
      "<class 'numpy.float64'>\n",
      "15.215500016873396\n",
      "89.12245035357121\n"
     ]
    }
   ],
   "source": [
    "print(type(fn(3)))\n",
    "print(fn(1))\n",
    "print(fn(3))"
   ]
  },
  {
   "cell_type": "code",
   "execution_count": null,
   "metadata": {
    "collapsed": true
   },
   "outputs": [],
   "source": []
  },
  {
   "cell_type": "code",
   "execution_count": null,
   "metadata": {
    "collapsed": true
   },
   "outputs": [],
   "source": []
  }
 ],
 "metadata": {
  "kernelspec": {
   "display_name": "Python 3",
   "language": "python",
   "name": "python3"
  },
  "language_info": {
   "codemirror_mode": {
    "name": "ipython",
    "version": 3
   },
   "file_extension": ".py",
   "mimetype": "text/x-python",
   "name": "python",
   "nbconvert_exporter": "python",
   "pygments_lexer": "ipython3",
   "version": "3.6.3"
  }
 },
 "nbformat": 4,
 "nbformat_minor": 2
}
