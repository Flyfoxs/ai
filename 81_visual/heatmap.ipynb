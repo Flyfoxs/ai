{
 "cells": [
  {
   "cell_type": "code",
   "execution_count": 13,
   "metadata": {},
   "outputs": [
    {
     "data": {
      "image/png": "[encoded data removed]",
      "text/plain": [
       "<matplotlib.figure.Figure at 0x10c977cc0>"
      ]
     },
     "metadata": {},
     "output_type": "display_data"
    }
   ],
   "source": [
    "import pandas as pd\n",
    "df = pd.read_csv('../98_sample/car_prediction.csv' )\n",
    "\n",
    "import matplotlib.pyplot as plt\n",
    " \n",
    "plt.scatter(df.start_lat, df.start_lon)\n",
    "\n",
    "#plt.scatter(mini.end_lat, mini.end_lon)\n",
    "\n",
    "plt.show()"
   ]
  },
  {
   "cell_type": "code",
   "execution_count": 14,
   "metadata": {},
   "outputs": [
    {
     "data": {
      "text/html": [
       "<div>\n",
       "<style scoped>\n",
       "    .dataframe tbody tr th:only-of-type {\n",
       "        vertical-align: middle;\n",
       "    }\n",
       "\n",
       "    .dataframe tbody tr th {\n",
       "        vertical-align: top;\n",
       "    }\n",
       "\n",
       "    .dataframe thead th {\n",
       "        text-align: right;\n",
       "    }\n",
       "</style>\n",
       "<table border=\"1\" class=\"dataframe\">\n",
       "  <thead>\n",
       "    <tr style=\"text-align: right;\">\n",
       "      <th></th>\n",
       "      <th>r_key</th>\n",
       "      <th>out_id</th>\n",
       "      <th>start_time</th>\n",
       "      <th>end_time</th>\n",
       "      <th>start_lat</th>\n",
       "      <th>start_lon</th>\n",
       "      <th>end_lat</th>\n",
       "      <th>end_lon</th>\n",
       "      <th>label</th>\n",
       "    </tr>\n",
       "  </thead>\n",
       "  <tbody>\n",
       "    <tr>\n",
       "      <th>0</th>\n",
       "      <td>SDK-XJ_609994b4d50a8a07a64d41d1f70bbb05</td>\n",
       "      <td>2016061820000b</td>\n",
       "      <td>2018-01-20 10:13:43</td>\n",
       "      <td>2018-01-20 10:19:04</td>\n",
       "      <td>33.783415</td>\n",
       "      <td>111.603660</td>\n",
       "      <td>33.779811</td>\n",
       "      <td>111.605885</td>\n",
       "      <td>train</td>\n",
       "    </tr>\n",
       "    <tr>\n",
       "      <th>1</th>\n",
       "      <td>SDK-XJ_4c2f29d94c9478623711756e4ae34cc5</td>\n",
       "      <td>2016061820000b</td>\n",
       "      <td>2018-02-12 17:40:51</td>\n",
       "      <td>2018-02-12 17:58:13</td>\n",
       "      <td>34.810763</td>\n",
       "      <td>115.549264</td>\n",
       "      <td>34.814875</td>\n",
       "      <td>115.549374</td>\n",
       "      <td>train</td>\n",
       "    </tr>\n",
       "    <tr>\n",
       "      <th>2</th>\n",
       "      <td>SDK-XJ_3570183177536a575b9da67a86efcd62</td>\n",
       "      <td>2016061820000b</td>\n",
       "      <td>2018-02-13 14:52:24</td>\n",
       "      <td>2018-02-13 15:24:33</td>\n",
       "      <td>34.640284</td>\n",
       "      <td>115.539024</td>\n",
       "      <td>34.813136</td>\n",
       "      <td>115.559243</td>\n",
       "      <td>train</td>\n",
       "    </tr>\n",
       "    <tr>\n",
       "      <th>3</th>\n",
       "      <td>SDK-XJ_78d749a376e190685716a51a6704010b</td>\n",
       "      <td>2016061820000b</td>\n",
       "      <td>2018-02-13 17:23:08</td>\n",
       "      <td>2018-02-13 17:39:02</td>\n",
       "      <td>34.818280</td>\n",
       "      <td>115.542039</td>\n",
       "      <td>34.813141</td>\n",
       "      <td>115.559217</td>\n",
       "      <td>train</td>\n",
       "    </tr>\n",
       "    <tr>\n",
       "      <th>4</th>\n",
       "      <td>SDK-XJ_3b249941c27834f5e43d43a9114e4909</td>\n",
       "      <td>2016061820000b</td>\n",
       "      <td>2018-02-13 18:06:02</td>\n",
       "      <td>2018-02-13 19:02:51</td>\n",
       "      <td>34.813278</td>\n",
       "      <td>115.559260</td>\n",
       "      <td>34.786126</td>\n",
       "      <td>115.874361</td>\n",
       "      <td>train</td>\n",
       "    </tr>\n",
       "  </tbody>\n",
       "</table>\n",
       "</div>"
      ],
      "text/plain": [
       "                                     r_key          out_id  \\\n",
       "0  SDK-XJ_609994b4d50a8a07a64d41d1f70bbb05  2016061820000b   \n",
       "1  SDK-XJ_4c2f29d94c9478623711756e4ae34cc5  2016061820000b   \n",
       "2  SDK-XJ_3570183177536a575b9da67a86efcd62  2016061820000b   \n",
       "3  SDK-XJ_78d749a376e190685716a51a6704010b  2016061820000b   \n",
       "4  SDK-XJ_3b249941c27834f5e43d43a9114e4909  2016061820000b   \n",
       "\n",
       "            start_time             end_time  start_lat   start_lon    end_lat  \\\n",
       "0  2018-01-20 10:13:43  2018-01-20 10:19:04  33.783415  111.603660  33.779811   \n",
       "1  2018-02-12 17:40:51  2018-02-12 17:58:13  34.810763  115.549264  34.814875   \n",
       "2  2018-02-13 14:52:24  2018-02-13 15:24:33  34.640284  115.539024  34.813136   \n",
       "3  2018-02-13 17:23:08  2018-02-13 17:39:02  34.818280  115.542039  34.813141   \n",
       "4  2018-02-13 18:06:02  2018-02-13 19:02:51  34.813278  115.559260  34.786126   \n",
       "\n",
       "      end_lon  label  \n",
       "0  111.605885  train  \n",
       "1  115.549374  train  \n",
       "2  115.559243  train  \n",
       "3  115.559217  train  \n",
       "4  115.874361  train  "
      ]
     },
     "execution_count": 14,
     "metadata": {},
     "output_type": "execute_result"
    }
   ],
   "source": [
    "df.head()"
   ]
  },
  {
   "cell_type": "code",
   "execution_count": 12,
   "metadata": {},
   "outputs": [
    {
     "data": {
      "text/plain": [
       "Index(['r_key\\t', 'out_id', '\\tstart_time', '\\tend_time', '\\tstart_lat',\n",
       "       '\\tstart_lon', '\\tend_lat', '\\tend_lon', '\\tlabel'],\n",
       "      dtype='object')"
      ]
     },
     "execution_count": 12,
     "metadata": {},
     "output_type": "execute_result"
    }
   ],
   "source": [
    "df.columns"
   ]
  },
  {
   "cell_type": "code",
   "execution_count": null,
   "metadata": {
    "collapsed": true
   },
   "outputs": [],
   "source": []
  }
 ],
 "metadata": {
  "kernelspec": {
   "display_name": "Python 3",
   "language": "python",
   "name": "python3"
  },
  "language_info": {
   "codemirror_mode": {
    "name": "ipython",
    "version": 3
   },
   "file_extension": ".py",
   "mimetype": "text/x-python",
   "name": "python",
   "nbconvert_exporter": "python",
   "pygments_lexer": "ipython3",
   "version": "3.6.3"
  }
 },
 "nbformat": 4,
 "nbformat_minor": 2
}
