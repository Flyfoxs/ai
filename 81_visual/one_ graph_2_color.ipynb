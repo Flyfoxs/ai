{
 "cells": [
  {
   "cell_type": "code",
   "execution_count": 121,
   "metadata": {},
   "outputs": [
    {
     "name": "stdout",
     "output_type": "stream",
     "text": [
      "FY18-Q1 134109440\n",
      "FY18-Q2 233887940\n",
      "FY18-Q3 410185180\n",
      "FY18-Q4 697505300\n",
      "FY19-Q1 368167160\n",
      "FY19-Q2 469469110\n",
      "FY19-Q3 598644499\n"
     ]
    },
    {
     "data": {
      "image/png": "[encoded data removed]",
      "text/plain": [
       "<matplotlib.figure.Figure at 0x10c2baac8>"
      ]
     },
     "metadata": {},
     "output_type": "display_data"
    }
   ],
   "source": [
    "\n",
    "import pandas as pd\n",
    "import io\n",
    "\n",
    "from matplotlib.backends.backend_template import FigureCanvas\n",
    "\n",
    "\n",
    "def get_booking_df():\n",
    "    input_str = io.StringIO(\n",
    "        \"\"\"ID,Field,Booking Type,Offer Type,ACCURACY,FY18-Q1,FY18-Q2,FY18-Q3,FY18-Q4,FY19-Q1,FY19-Q2,FY19-Q3,MAPE\n",
    "            0,Booking Type - ALL | Offer Type - ALL,ALL,ALL,87%,149731107.47,252525869.77,459474430.39,788733490.46,407114480.10,526715890.00,688527052.55,0.13\n",
    "            1,Booking Type - NEW | Offer Type - ALL,NEW,ALL,91%,134109440.00,233887940.00,410185180.00,697505300.00,368167160.00,469469110.00,598644499.54,0.09\n",
    "            2,Booking Type - REPLACE | Offer Type - ALL,REPLACE,ALL,74%,11284842.40,16041752.80,60907638.00,143575368.00,62792290.00,86306510.00,118626246.44,0.26\n",
    "            3,Booking Type - MODIFY | Offer Type - ALL,MODIFY,ALL,91%,23653607.00,16215960.00,15496049.00,17133809.00,20698816.00,18561955.00,16645694.78,0.09\n",
    "            4,Booking Type - CANCEL | Offer Type - ALL,CANCEL,ALL,82%,-18510487.00,-10355517.00,-9960941.00,-40674903.00,-26382440.00,-25368350.00,-24393239.66,0.18\n",
    "            5,Booking Type - CANCEL-PDODR | Offer Type - ALL,CANCEL-PDODR,ALL,87%,-2624642.40,-6164431.90,-21016261.00,-34247877.00,-23585798.00,-22253335.00,-20996148.56,0.13\n",
    "            6,Booking Type - NEW | Offer Type - WEBEX,NEW,WEBEX,97%,64931883.00,130758310.00,212868620.00,276983370.00,159955790.00,207706440.00,269711807.35,0.03\n",
    "            7,Booking Type - NEW | Offer Type - ELA2,NEW,ELA2,90%,4678739.00,19511386.00,55003813.40,201708534.00,64175662.00,104520670.00,170229182.17,0.10\n",
    "            8,Booking Type - NEW | Offer Type - UMBRELLA,NEW,UMBRELLA,84%,22444413.00,32564129.00,40254703.00,69527850.00,38263522.00,47407473.00,58736581.97,0.16\n",
    "            9,Booking Type - NEW | Offer Type - N9K_SW_SUB,NEW,N9K_SW_SUB,74%,0.00,0.00,5130868.60,11401153.00,23821661.00,28837618.00,34909749.24,0.26\n",
    "            10,Booking Type - NEW | Offer Type - TETRATION,NEW,TETRATION,94%,7209396.00,6964056.00,8845270.90,14810575.00,8182623.70,9242081.50,10438714.23,0.06             \n",
    "            \"\"\")\n",
    "    # print(pd.read_csv(input_str, delimiter=',', ))\n",
    "    df = pd.read_csv(input_str, delimiter=',', index_col='ID')\n",
    "    return round(df, 2)\n",
    "\n",
    "\n",
    "def show_offer_type(kind_id=None):\n",
    "    df = get_booking_df()\n",
    "    if kind_id is None:\n",
    "        return dict(zip(df.index, df['Field']))\n",
    "    else:\n",
    "        return df.at[kind_id, 'Field']\n",
    "\n",
    "\n",
    "def get_offer_accuracy(kind_id=None):\n",
    "    df = get_booking_df()\n",
    "    return df.at[kind_id, 'ACCURACY']\n",
    "\n",
    "\n",
    "from functools import lru_cache\n",
    "\n",
    "\n",
    "@lru_cache()\n",
    "def get_color(kind, style):\n",
    "    if kind == 'Real' and style == 'bar':\n",
    "        return 'blue'  # 'green'\n",
    "    elif kind == 'Predict' and style == 'bar':\n",
    "        return 'orange'\n",
    "    elif kind == 'Real' and style == 'line':\n",
    "        return 'wheat'\n",
    "\n",
    "    elif kind == 'Predict' and style == 'line':\n",
    "        return 'springgreen'\n",
    "    else:\n",
    "        return 'red'\n",
    "\n",
    "\n",
    "def show_booking_img(book_type=1):\n",
    "    df = get_booking_df()\n",
    "    # print(df.columns)\n",
    "    df = df.loc[book_type].T.to_frame()\n",
    "    df['kind'] = 'Real'\n",
    "    df.loc[-3:, 'kind'] = 'Predict'\n",
    "\n",
    "    xy = df\n",
    "    xy = xy.loc[[True if 'FY' in index else False for index in xy.index]]\n",
    "\n",
    "    from matplotlib.ticker import MultipleLocator, FormatStrFormatter\n",
    "    import matplotlib.pyplot as plt\n",
    "    fig, ax2 = plt.subplots()\n",
    "\n",
    "    # xmajorLocator = MultipleLocator(2000000000)\n",
    "    # ax2.yaxis.set_major_locator(xmajorLocator)\n",
    "    ax2.get_yaxis().get_major_formatter().set_scientific(False)\n",
    "    ax2.set_ylabel('$ Mn')\n",
    "    ax2.set_title('Quaterly Booking Value Projection')\n",
    "    for x, y, kind in zip(xy.index, xy.iloc[:, 0], xy.kind):\n",
    "        ax2.bar(x, int(y) / 1000000, color=get_color(kind, 'bar'), alpha=0.5, )\n",
    "\n",
    "        print(x, int(y))\n",
    "\n",
    "    for tick in ax2.get_xticklabels():\n",
    "        tick.set_rotation(30)\n",
    "\n",
    "    left = 0.1\n",
    "    top = -0.25\n",
    "    ax2.text(left, top, f'Accuracy:{get_offer_accuracy(book_type)}',\n",
    "             horizontalalignment='center',\n",
    "             verticalalignment='baseline',\n",
    "             # rotation=45,\n",
    "             transform=ax2.transAxes)\n",
    "\n",
    "    left = 0.3\n",
    "    ax2.text(left, top, 'Actual', style='italic',\n",
    "             bbox={'facecolor': get_color('Real', 'bar'), 'alpha': 0.5, 'pad': 3},\n",
    "             transform=ax2.transAxes)\n",
    "\n",
    "    left = 0.6\n",
    "    ax2.text(left, top, 'Projected', style='italic',\n",
    "             bbox={'facecolor': get_color('Predict', 'bar'), 'alpha': 0.5, 'pad': 3},\n",
    "             transform=ax2.transAxes)\n",
    "\n",
    "    canvas = FigureCanvas(fig)\n",
    "    return canvas\n",
    "\n",
    "\n",
    "# for i in range(0, 11):\n",
    "#     show_booking_img(i)\n",
    "\n",
    "canvas = show_booking_img(1)\n",
    "\n",
    "plt.show(canvas)\n",
    " \n",
    "\n"
   ]
  },
  {
   "cell_type": "code",
   "execution_count": 122,
   "metadata": {
    "collapsed": true
   },
   "outputs": [],
   "source": [
    "xx = show_offer_type()"
   ]
  },
  {
   "cell_type": "code",
   "execution_count": 128,
   "metadata": {},
   "outputs": [
    {
     "data": {
      "text/plain": [
       "{0: 'Booking Type - ALL | Offer Type - ALL',\n",
       " 1: 'Booking Type - NEW | Offer Type - ALL',\n",
       " 2: 'Booking Type - REPLACE | Offer Type - ALL',\n",
       " 3: 'Booking Type - MODIFY | Offer Type - ALL',\n",
       " 4: 'Booking Type - CANCEL | Offer Type - ALL',\n",
       " 5: 'Booking Type - CANCEL-PDODR | Offer Type - ALL',\n",
       " 6: 'Booking Type - NEW | Offer Type - WEBEX',\n",
       " 7: 'Booking Type - NEW | Offer Type - ELA2',\n",
       " 8: 'Booking Type - NEW | Offer Type - UMBRELLA',\n",
       " 9: 'Booking Type - NEW | Offer Type - N9K_SW_SUB',\n",
       " 10: 'Booking Type - NEW | Offer Type - TETRATION'}"
      ]
     },
     "execution_count": 128,
     "metadata": {},
     "output_type": "execute_result"
    }
   ],
   "source": [
    "xx"
   ]
  },
  {
   "cell_type": "code",
   "execution_count": null,
   "metadata": {
    "collapsed": true
   },
   "outputs": [],
   "source": []
  }
 ],
 "metadata": {
  "kernelspec": {
   "display_name": "Python 3",
   "language": "python",
   "name": "python3"
  },
  "language_info": {
   "codemirror_mode": {
    "name": "ipython",
    "version": 3
   },
   "file_extension": ".py",
   "mimetype": "text/x-python",
   "name": "python",
   "nbconvert_exporter": "python",
   "pygments_lexer": "ipython3",
   "version": "3.6.3"
  }
 },
 "nbformat": 4,
 "nbformat_minor": 2
}
