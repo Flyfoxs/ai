{
 "cells": [
  {
   "cell_type": "code",
   "execution_count": 34,
   "metadata": {},
   "outputs": [
    {
     "data": {
      "text/plain": [
       "(1000, 5)"
      ]
     },
     "execution_count": 34,
     "metadata": {},
     "output_type": "execute_result"
    }
   ],
   "source": [
    "#https://pandas.pydata.org/pandas-docs/version/0.23.0/sparse.html#sparsedataframe\n",
    "import numpy as np\n",
    "import pandas as pd\n",
    "from scipy.sparse import csr_matrix\n",
    "arr = np.random.random(size=(1000, 5))\n",
    "arr[arr < .9] = 0\n",
    "\n",
    "sp_arr = csr_matrix(arr)\n",
    "sp_arr\n",
    "sdf = pd.SparseDataFrame(sp_arr)\n",
    "sdf.shape\n"
   ]
  },
  {
   "cell_type": "code",
   "execution_count": 35,
   "metadata": {},
   "outputs": [
    {
     "name": "stdout",
     "output_type": "stream",
     "text": [
      "0.1098\n"
     ]
    }
   ],
   "source": [
    "sdf.fillna(0,inplace=True)\n",
    "sdf.to_sparse(fill_value=np.nan).to_pickle('sparse.pkl')\n",
    "sdf.to_dense().to_pickle('dense.pkl')\n",
    "print(sdf.density)\n"
   ]
  },
  {
   "cell_type": "code",
   "execution_count": 30,
   "metadata": {},
   "outputs": [
    {
     "name": "stdout",
     "output_type": "stream",
     "text": [
      "total 432\r\n",
      "-rw-r--r--  1 lali2   9.7K Jul 30 10:25 transform.ipynb\r\n",
      "-rw-r--r--  1 lali2   5.1K Jul 30 15:28 filter.ipynb\r\n",
      "-rw-r--r--  1 lali2    22K Jul 30 23:34 pivot_stack_melt.ipynb\r\n",
      "-rw-r--r--  1 lali2    12K Jul 30 23:47 rolling_row_number.ipynb\r\n",
      "-rw-r--r--  1 lali2    11K Aug  1 19:41 group_level.ipynb\r\n",
      "-rw-r--r--  1 lali2   8.8K Sep  3 11:52 featurize.ipynb\r\n",
      "-rw-r--r--  1 lali2   6.9K Sep 11 10:54 date.ipynb\r\n",
      "-rw-r--r--  1 lali2   9.2K Sep 12 22:53 test6\r\n",
      "-rw-r--r--  1 lali2   9.2K Sep 12 22:56 sparse\r\n",
      "-rw-r--r--  1 lali2    40K Sep 12 22:56 dense\r\n",
      "-rw-r--r--  1 lali2   5.4K Sep 12 23:00 SparseDataFrame.ipynb\r\n",
      "-rw-r--r--  1 lali2   9.2K Sep 12 23:01 sparse.pkl\r\n",
      "-rw-r--r--  1 lali2    40K Sep 12 23:01 dense.pkl\r\n"
     ]
    }
   ],
   "source": [
    "%ll -hltro *.pkl"
   ]
  },
  {
   "cell_type": "code",
   "execution_count": 40,
   "metadata": {},
   "outputs": [
    {
     "name": "stdout",
     "output_type": "stream",
     "text": [
      "<class 'pandas.core.sparse.frame.SparseDataFrame'>\n"
     ]
    }
   ],
   "source": [
    "df = pd.read_pickle('sparse.pkl')\n",
    "print(type(df) )\n",
    "df.head()"
   ]
  },
  {
   "cell_type": "code",
   "execution_count": null,
   "metadata": {
    "collapsed": true
   },
   "outputs": [],
   "source": []
  }
 ],
 "metadata": {
  "kernelspec": {
   "display_name": "Python 3",
   "language": "python",
   "name": "python3"
  },
  "language_info": {
   "codemirror_mode": {
    "name": "ipython",
    "version": 3
   },
   "file_extension": ".py",
   "mimetype": "text/x-python",
   "name": "python",
   "nbconvert_exporter": "python",
   "pygments_lexer": "ipython3",
   "version": "3.6.3"
  }
 },
 "nbformat": 4,
 "nbformat_minor": 2
}
